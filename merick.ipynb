{
 "cells": [
  {
   "cell_type": "code",
   "execution_count": 1,
   "metadata": {},
   "outputs": [],
   "source": [
    "import numpy as np\n",
    "import pandas as pd\n",
    "import seaborn as sb\n",
    "import matplotlib.pyplot as plt\n",
    "from sklearn.model_selection import train_test_split\n",
    "from sklearn.tree import DecisionTreeClassifier\n",
    "from sklearn.tree import plot_tree\n",
    "from sklearn.metrics import confusion_matrix\n"
   ]
  },
  {
   "cell_type": "markdown",
   "metadata": {},
   "source": [
    "# If you have these qualifications, is it more worth to further education or more experience for each level?"
   ]
  },
  {
   "cell_type": "code",
   "execution_count": 2,
   "metadata": {},
   "outputs": [],
   "source": [
    "pd.set_option('display.max_columns', None)\n",
    "pd.set_option('display.max_rows', None)\n",
    "data = pd.read_csv('Levels_Fyi_Salary_Data.csv')\n",
    "amazon = data[data['company'] == 'Amazon']\n",
    "amazon = amazon.replace({'level':{'SDE I':'L4','SDE II':'L5','SDE III':'L6','L6 SDM':'L6','6':'L6','L5 SDM':'L5','Principal SDE':'L7','Senior SDE':'L6','5':'L5','7':'L7','4':'L4','1':'L1','l5':'L5','l4':'L4','l6':'L6','l7':'L7','l1':'L1','l2':'L2','l3':'L3','2':'L2','3':'L3'}})\n",
    "cleaned = amazon.loc[(amazon['level'] == 'L1') | (amazon['level']=='L2') | (amazon['level']=='L3') | (amazon['level']=='L4') | (amazon['level']=='L5') | (amazon['level']=='L6') | (amazon['level']=='L7') | (amazon['level']=='L8')]\n",
    "cleaned = cleaned.sort_values(by=['level','totalyearlycompensation'], ascending=[False,False])"
   ]
  },
  {
   "cell_type": "markdown",
   "metadata": {},
   "source": [
    "# from here onwards only add items"
   ]
  },
  {
   "cell_type": "code",
   "execution_count": 3,
   "metadata": {},
   "outputs": [
    {
     "name": "stdout",
     "output_type": "stream",
     "text": [
      "PermaHeadDamage:\n",
      " 0    60839\n",
      "1     1803\n",
      "Name: Doctorate_Degree, dtype: int64\n",
      "Masters:\n",
      " 0    47251\n",
      "1    15391\n",
      "Name: Masters_Degree, dtype: int64\n",
      "Bachelors:\n",
      " 0    50037\n",
      "1    12605\n",
      "Name: Bachelors_Degree, dtype: int64\n",
      "Highschool:\n",
      " 0    62322\n",
      "1      320\n",
      "Name: Highschool, dtype: int64\n",
      "education:\n",
      " Master's Degree      15391\n",
      "Bachelor's Degree    12601\n",
      "PhD                   1703\n",
      "Some College           355\n",
      "Highschool             320\n",
      "Name: Education, dtype: int64\n"
     ]
    },
    {
     "data": {
      "text/plain": [
       "Amazon       3665\n",
       "Microsoft    2310\n",
       "Google       1917\n",
       "Facebook     1431\n",
       "Apple         915\n",
       "Name: company, dtype: int64"
      ]
     },
     "execution_count": 3,
     "metadata": {},
     "output_type": "execute_result"
    }
   ],
   "source": [
    "print(\"PermaHeadDamage:\\n\",data['Doctorate_Degree'].value_counts())\n",
    "print(\"Masters:\\n\",data['Masters_Degree'].value_counts())\n",
    "print(\"Bachelors:\\n\",data['Bachelors_Degree'].value_counts())\n",
    "print(\"Highschool:\\n\",data['Highschool'].value_counts())\n",
    "print(\"education:\\n\",data['Education'].value_counts())\n",
    "fillededu = data[data['Education'].notnull()]\n",
    "#fillededu.info()\n",
    "#fillededu['company'].value_counts()\n",
    "top5 = fillededu[fillededu['company'].isin(['Facebook','Google','Amazon','Apple','Microsoft'])]\n",
    "#top5.info()\n",
    "top5['company'].value_counts()"
   ]
  },
  {
   "cell_type": "code",
   "execution_count": 4,
   "metadata": {},
   "outputs": [],
   "source": [
    "cleanedL4IQRcomp = cleaned[cleaned['level']=='L4'].totalyearlycompensation.quantile(0.75) - cleaned[cleaned['level']=='L4'].totalyearlycompensation.quantile(0.25)\n",
    "cleanedL5IQRcomp = cleaned[cleaned['level']=='L5'].totalyearlycompensation.quantile(0.75) - cleaned[cleaned['level']=='L5'].totalyearlycompensation.quantile(0.25)\n",
    "cleanedL6IQRcomp = cleaned[cleaned['level']=='L6'].totalyearlycompensation.quantile(0.75) - cleaned[cleaned['level']=='L6'].totalyearlycompensation.quantile(0.25)\n",
    "cleanedL7IQRcomp = cleaned[cleaned['level']=='L7'].totalyearlycompensation.quantile(0.75) - cleaned[cleaned['level']=='L7'].totalyearlycompensation.quantile(0.25)\n",
    "cleanedL8IQRcomp = cleaned[cleaned['level']=='L8'].totalyearlycompensation.quantile(0.75) - cleaned[cleaned['level']=='L8'].totalyearlycompensation.quantile(0.25)\n",
    "\n",
    "cleanedL4upperboundcomp = cleaned[cleaned['level']=='L4'].totalyearlycompensation.quantile(0.75) + (1.5*cleanedL4IQRcomp)\n",
    "cleanedL5upperboundcomp = cleaned[cleaned['level']=='L5'].totalyearlycompensation.quantile(0.75) + (1.5*cleanedL5IQRcomp)\n",
    "cleanedL6upperboundcomp = cleaned[cleaned['level']=='L6'].totalyearlycompensation.quantile(0.75) + (1.5*cleanedL6IQRcomp)\n",
    "cleanedL7upperboundcomp = cleaned[cleaned['level']=='L7'].totalyearlycompensation.quantile(0.75) + (1.5*cleanedL7IQRcomp)\n",
    "cleanedL8upperboundcomp = cleaned[cleaned['level']=='L8'].totalyearlycompensation.quantile(0.75) + (1.5*cleanedL8IQRcomp)"
   ]
  },
  {
   "cell_type": "code",
   "execution_count": 5,
   "metadata": {},
   "outputs": [],
   "source": [
    "applemerick = data[(data['company'] == 'Apple')&(data['title']=='Software Engineer')]\n",
    "applemerick = applemerick.replace({'level':{'ict 2':'ICT2','ic2':'ICT2','ICT 2':'ICT2','IC2':'ICT2','New Grad (ICT2)':'ICT3'}})\n",
    "applemerick = applemerick.replace({'level':{'ict3':'ICT3','ICT 3':'ICT3','IC3':'ICT3','ict3':'ICT3','ic3':'ICT3','ITC3':'ICT3','Ict3':'ICT3','Ic3':'ICT3'}})\n",
    "applemerick = applemerick.replace({'level':{'ict4':'ICT4','ICT 4':'ICT4','IC4':'ICT4','ict4':'ICT4','ic4':'ICT4','ITC4':'ICT4','Ict4':'ICT4','Ic4':'ICT4','Ict 4':'ICT4','ICT-4':'ICT4','Senior Software Engineer':'ICT4'}})\n",
    "applemerick = applemerick.replace({'level':{'ict5':'ICT5','ICT 5':'ICT5','IC5':'ICT5','ict5':'ICT5','ic5':'ICT5','ITC5':'ICT5','Ict5':'ICT5','Ic5':'ICT5','Ict 5':'ICT5','ICT-5':'ICT5','ICT - 5':'ICT5'}})\n",
    "applemerick = applemerick.loc[(applemerick['level'] == 'ICT2') | (applemerick['level']=='ICT3') | (applemerick['level']=='ICT4') | (applemerick['level']=='ICT5')| (applemerick['level']=='ICT6')]\n",
    "\n",
    "applemerick['level']=np.where(applemerick['level']=='ICT2','L4',applemerick['level'])\n",
    "\n",
    "applemerick['level']=np.where((applemerick['totalyearlycompensation']<=cleanedL4upperboundcomp)&(applemerick['level']=='ICT3'),'L4',applemerick['level'])\n",
    "applemerick['level']=np.where((applemerick['totalyearlycompensation']>cleanedL4upperboundcomp)&(applemerick['level']=='ICT3'),'L5',applemerick['level'])\n",
    "\n",
    "applemerick['level']=np.where((applemerick['level']=='ICT4')&(applemerick['totalyearlycompensation']<=cleanedL5upperboundcomp),'L5',applemerick['level'])\n",
    "applemerick['level']=np.where((applemerick['level']=='ICT4')&(applemerick['totalyearlycompensation']>cleanedL5upperboundcomp),'L6',applemerick['level'])\n",
    "\n",
    "applemerick['level']=np.where((applemerick['level']=='ICT5')&(applemerick['totalyearlycompensation']<=cleanedL6upperboundcomp),'L6',applemerick['level'])\n",
    "applemerick['level']=np.where((applemerick['level']=='ICT5')&(applemerick['totalyearlycompensation']>cleanedL6upperboundcomp),'L7',applemerick['level'])\n",
    "\n",
    "applemerick['level']=np.where((applemerick['level']=='ICT6')&(applemerick['totalyearlycompensation']<=cleanedL7upperboundcomp),'L7',applemerick['level'])\n",
    "applemerick['level']=np.where((applemerick['level']=='ICT6')&(applemerick['totalyearlycompensation']>cleanedL7upperboundcomp),'L8',applemerick['level'])"
   ]
  },
  {
   "cell_type": "code",
   "execution_count": 6,
   "metadata": {},
   "outputs": [
    {
     "name": "stdout",
     "output_type": "stream",
     "text": [
      "L4    1090\n",
      "L3    1012\n",
      "L5     619\n",
      "L6     164\n",
      "L7      55\n",
      "L8       8\n",
      "Name: level, dtype: int64\n",
      "L4     1090\n",
      "L4a     910\n",
      "L5      619\n",
      "L6      164\n",
      "L3      102\n",
      "L7       55\n",
      "L8        8\n",
      "Name: level, dtype: int64\n",
      "L4     1090\n",
      "L4a     910\n",
      "L5      619\n",
      "L6      164\n",
      "L5a     102\n",
      "L7       55\n",
      "L8        8\n",
      "Name: level, dtype: int64\n",
      "L4     1090\n",
      "L4a     910\n",
      "L5      619\n",
      "L6      164\n",
      "L5a     102\n",
      "L7       55\n",
      "L8        8\n",
      "Name: level, dtype: int64\n",
      "L4a    1938\n",
      "L5      619\n",
      "L6      164\n",
      "L5a     102\n",
      "L4       62\n",
      "L7       55\n",
      "L8        8\n",
      "Name: level, dtype: int64\n",
      "L4a    1938\n",
      "L5      619\n",
      "L6      164\n",
      "L5a     164\n",
      "L7       55\n",
      "L8        8\n",
      "Name: level, dtype: int64\n",
      "L4a    1938\n",
      "L5      619\n",
      "L6      164\n",
      "L5a     164\n",
      "L7       55\n",
      "L8        8\n",
      "Name: level, dtype: int64\n",
      "L4a    1938\n",
      "L5a     768\n",
      "L6      164\n",
      "L7       55\n",
      "L5       15\n",
      "L8        8\n",
      "Name: level, dtype: int64\n",
      "L4a    1938\n",
      "L5a     768\n",
      "L6      164\n",
      "L7       55\n",
      "L6a      15\n",
      "L8        8\n",
      "Name: level, dtype: int64\n",
      "L4a    1938\n",
      "L5a     768\n",
      "L6      164\n",
      "L7       55\n",
      "L6a      15\n",
      "L8        8\n",
      "Name: level, dtype: int64\n",
      "L4a    1938\n",
      "L5a     768\n",
      "L6a     179\n",
      "L7       55\n",
      "L8        8\n",
      "Name: level, dtype: int64\n",
      "L4a    1938\n",
      "L5a     768\n",
      "L6a     179\n",
      "L7       55\n",
      "L8        8\n",
      "Name: level, dtype: int64\n",
      "L4a    1938\n",
      "L5a     768\n",
      "L6a     179\n",
      "L7       55\n",
      "L8        8\n",
      "Name: level, dtype: int64\n",
      "L4a    1938\n",
      "L5a     768\n",
      "L6a     179\n",
      "L7a      55\n",
      "L8        8\n",
      "Name: level, dtype: int64\n",
      "L4    1938\n",
      "L5     768\n",
      "L6     179\n",
      "L7      55\n",
      "L8       8\n",
      "Name: level, dtype: int64\n"
     ]
    },
    {
     "name": "stderr",
     "output_type": "stream",
     "text": [
      "C:\\Users\\meric\\AppData\\Local\\Temp/ipykernel_32244/519593107.py:19: SettingWithCopyWarning: \n",
      "A value is trying to be set on a copy of a slice from a DataFrame.\n",
      "Try using .loc[row_indexer,col_indexer] = value instead\n",
      "\n",
      "See the caveats in the documentation: https://pandas.pydata.org/pandas-docs/stable/user_guide/indexing.html#returning-a-view-versus-a-copy\n",
      "  googlecleaned['level']=np.where((googlecleaned['totalyearlycompensation']<=amazonupperboundcompL4)&(googlecleaned['level']=='L3'),'L4a',googlecleaned['level'])\n",
      "C:\\Users\\meric\\AppData\\Local\\Temp/ipykernel_32244/519593107.py:21: SettingWithCopyWarning: \n",
      "A value is trying to be set on a copy of a slice from a DataFrame.\n",
      "Try using .loc[row_indexer,col_indexer] = value instead\n",
      "\n",
      "See the caveats in the documentation: https://pandas.pydata.org/pandas-docs/stable/user_guide/indexing.html#returning-a-view-versus-a-copy\n",
      "  googlecleaned['level']=np.where((googlecleaned['totalyearlycompensation']>amazonupperboundcompL4)&(googlecleaned['level']=='L3'),'L5a',googlecleaned['level'])\n",
      "C:\\Users\\meric\\AppData\\Local\\Temp/ipykernel_32244/519593107.py:25: SettingWithCopyWarning: \n",
      "A value is trying to be set on a copy of a slice from a DataFrame.\n",
      "Try using .loc[row_indexer,col_indexer] = value instead\n",
      "\n",
      "See the caveats in the documentation: https://pandas.pydata.org/pandas-docs/stable/user_guide/indexing.html#returning-a-view-versus-a-copy\n",
      "  googlecleaned['level']=np.where((googlecleaned['totalyearlycompensation']<=amazonupperboundcompL5)&(googlecleaned['level']=='L4'),'L4a',googlecleaned['level'])\n",
      "C:\\Users\\meric\\AppData\\Local\\Temp/ipykernel_32244/519593107.py:27: SettingWithCopyWarning: \n",
      "A value is trying to be set on a copy of a slice from a DataFrame.\n",
      "Try using .loc[row_indexer,col_indexer] = value instead\n",
      "\n",
      "See the caveats in the documentation: https://pandas.pydata.org/pandas-docs/stable/user_guide/indexing.html#returning-a-view-versus-a-copy\n",
      "  googlecleaned['level']=np.where((googlecleaned['totalyearlycompensation']>amazonupperboundcompL5)&(googlecleaned['level']=='L4'),'L5a',googlecleaned['level'])\n",
      "C:\\Users\\meric\\AppData\\Local\\Temp/ipykernel_32244/519593107.py:32: SettingWithCopyWarning: \n",
      "A value is trying to be set on a copy of a slice from a DataFrame.\n",
      "Try using .loc[row_indexer,col_indexer] = value instead\n",
      "\n",
      "See the caveats in the documentation: https://pandas.pydata.org/pandas-docs/stable/user_guide/indexing.html#returning-a-view-versus-a-copy\n",
      "  googlecleaned['level']=np.where((googlecleaned['totalyearlycompensation']<=amazonupperboundcompL6)&(googlecleaned['level']=='L5'),'L5a',googlecleaned['level'])\n",
      "C:\\Users\\meric\\AppData\\Local\\Temp/ipykernel_32244/519593107.py:34: SettingWithCopyWarning: \n",
      "A value is trying to be set on a copy of a slice from a DataFrame.\n",
      "Try using .loc[row_indexer,col_indexer] = value instead\n",
      "\n",
      "See the caveats in the documentation: https://pandas.pydata.org/pandas-docs/stable/user_guide/indexing.html#returning-a-view-versus-a-copy\n",
      "  googlecleaned['level']=np.where((googlecleaned['totalyearlycompensation']>amazonupperboundcompL6)&(googlecleaned['level']=='L5'),'L6a',googlecleaned['level'])\n",
      "C:\\Users\\meric\\AppData\\Local\\Temp/ipykernel_32244/519593107.py:38: SettingWithCopyWarning: \n",
      "A value is trying to be set on a copy of a slice from a DataFrame.\n",
      "Try using .loc[row_indexer,col_indexer] = value instead\n",
      "\n",
      "See the caveats in the documentation: https://pandas.pydata.org/pandas-docs/stable/user_guide/indexing.html#returning-a-view-versus-a-copy\n",
      "  googlecleaned['level']=np.where((googlecleaned['totalyearlycompensation']<=amazonupperboundcompL7)&(googlecleaned['level']=='L6'),'L6a',googlecleaned['level'])\n",
      "C:\\Users\\meric\\AppData\\Local\\Temp/ipykernel_32244/519593107.py:40: SettingWithCopyWarning: \n",
      "A value is trying to be set on a copy of a slice from a DataFrame.\n",
      "Try using .loc[row_indexer,col_indexer] = value instead\n",
      "\n",
      "See the caveats in the documentation: https://pandas.pydata.org/pandas-docs/stable/user_guide/indexing.html#returning-a-view-versus-a-copy\n",
      "  googlecleaned['level']=np.where((googlecleaned['totalyearlycompensation']>amazonupperboundcompL7)&(googlecleaned['level']=='L6'),'L7a',googlecleaned['level'])\n",
      "C:\\Users\\meric\\AppData\\Local\\Temp/ipykernel_32244/519593107.py:44: SettingWithCopyWarning: \n",
      "A value is trying to be set on a copy of a slice from a DataFrame.\n",
      "Try using .loc[row_indexer,col_indexer] = value instead\n",
      "\n",
      "See the caveats in the documentation: https://pandas.pydata.org/pandas-docs/stable/user_guide/indexing.html#returning-a-view-versus-a-copy\n",
      "  googlecleaned['level']=np.where((googlecleaned['totalyearlycompensation']<=amazonupperboundcompL8)&(googlecleaned['level']=='L7'),'L7a',googlecleaned['level'])\n"
     ]
    }
   ],
   "source": [
    "googlejw = data[(data['company'] == 'Google')&(data['title']=='Software Engineer')]\n",
    "amazonIQRcompL4 = cleaned[cleaned['level']=='L4'].totalyearlycompensation.quantile(0.75) - cleaned[cleaned['level']=='L4'].totalyearlycompensation.quantile(0.25)\n",
    "amazonIQRcompL5 = cleaned[cleaned['level']=='L5'].totalyearlycompensation.quantile(0.75) - cleaned[cleaned['level']=='L5'].totalyearlycompensation.quantile(0.25)\n",
    "amazonIQRcompL6 = cleaned[cleaned['level']=='L6'].totalyearlycompensation.quantile(0.75) - cleaned[cleaned['level']=='L6'].totalyearlycompensation.quantile(0.25)\n",
    "amazonIQRcompL7 = cleaned[cleaned['level']=='L7'].totalyearlycompensation.quantile(0.75) - cleaned[cleaned['level']=='L7'].totalyearlycompensation.quantile(0.25)\n",
    "amazonIQRcompL8 = cleaned[cleaned['level']=='L8'].totalyearlycompensation.quantile(0.75) - cleaned[cleaned['level']=='L8'].totalyearlycompensation.quantile(0.25)\n",
    "\n",
    "amazonupperboundcompL4 = cleaned[cleaned['level']=='L4'].totalyearlycompensation.quantile(0.75) + (1.5*amazonIQRcompL4)\n",
    "amazonupperboundcompL5 = cleaned[cleaned['level']=='L5'].totalyearlycompensation.quantile(0.75) + (1.5*amazonIQRcompL5)\n",
    "amazonupperboundcompL6 = cleaned[cleaned['level']=='L6'].totalyearlycompensation.quantile(0.75) + (1.5*amazonIQRcompL6)\n",
    "amazonupperboundcompL7 = cleaned[cleaned['level']=='L7'].totalyearlycompensation.quantile(0.75) + (1.5*amazonIQRcompL7)\n",
    "amazonupperboundcompL8 = cleaned[cleaned['level']=='L8'].totalyearlycompensation.quantile(0.75) + (1.5*amazonIQRcompL8)\n",
    "\n",
    "googlejw = googlejw.replace({'level':{'SWE II':'L3','SWE III':'L4','Senior SWE':'L5','Staff SWE':'L6','Senior Staff SWE':'L7','Principal Engineer':'L8','4':'L4','5':'L5','3':'L3','6':'L6','7':'L7','8':'L8','L3 software engineer':'L3','l3':'L3','l4':'L4','l5':'L5','l6':'L6','l7':'L7','l8':'L8','L3 New Grad':'L3','Manager (L6)':'L6','L6 {Staff)':'L6', 'SWE L5':'L5','Senior L5': 'L5' }})\n",
    "googlecleaned = googlejw.loc[(googlejw['level'] == 'L3') | (googlejw['level']=='L4') | (googlejw['level']=='L5') | (googlejw['level']=='L6') | (googlejw['level']=='L7') | (googlejw['level']=='L8')]\n",
    "\n",
    "\n",
    "print(googlecleaned['level'].value_counts())\n",
    "googlecleaned['level']=np.where((googlecleaned['totalyearlycompensation']<=amazonupperboundcompL4)&(googlecleaned['level']=='L3'),'L4a',googlecleaned['level'])\n",
    "print(googlecleaned['level'].value_counts())\n",
    "googlecleaned['level']=np.where((googlecleaned['totalyearlycompensation']>amazonupperboundcompL4)&(googlecleaned['level']=='L3'),'L5a',googlecleaned['level'])\n",
    "print(googlecleaned['level'].value_counts())\n",
    "\n",
    "print(googlecleaned['level'].value_counts())\n",
    "googlecleaned['level']=np.where((googlecleaned['totalyearlycompensation']<=amazonupperboundcompL5)&(googlecleaned['level']=='L4'),'L4a',googlecleaned['level'])\n",
    "print(googlecleaned['level'].value_counts())\n",
    "googlecleaned['level']=np.where((googlecleaned['totalyearlycompensation']>amazonupperboundcompL5)&(googlecleaned['level']=='L4'),'L5a',googlecleaned['level'])\n",
    "print(googlecleaned['level'].value_counts())\n",
    "\n",
    "\n",
    "print(googlecleaned['level'].value_counts())\n",
    "googlecleaned['level']=np.where((googlecleaned['totalyearlycompensation']<=amazonupperboundcompL6)&(googlecleaned['level']=='L5'),'L5a',googlecleaned['level'])\n",
    "print(googlecleaned['level'].value_counts())\n",
    "googlecleaned['level']=np.where((googlecleaned['totalyearlycompensation']>amazonupperboundcompL6)&(googlecleaned['level']=='L5'),'L6a',googlecleaned['level'])\n",
    "print(googlecleaned['level'].value_counts())\n",
    "\n",
    "print(googlecleaned['level'].value_counts())\n",
    "googlecleaned['level']=np.where((googlecleaned['totalyearlycompensation']<=amazonupperboundcompL7)&(googlecleaned['level']=='L6'),'L6a',googlecleaned['level'])\n",
    "print(googlecleaned['level'].value_counts())\n",
    "googlecleaned['level']=np.where((googlecleaned['totalyearlycompensation']>amazonupperboundcompL7)&(googlecleaned['level']=='L6'),'L7a',googlecleaned['level'])\n",
    "print(googlecleaned['level'].value_counts())\n",
    "\n",
    "print(googlecleaned['level'].value_counts())\n",
    "googlecleaned['level']=np.where((googlecleaned['totalyearlycompensation']<=amazonupperboundcompL8)&(googlecleaned['level']=='L7'),'L7a',googlecleaned['level'])\n",
    "print(googlecleaned['level'].value_counts())\n",
    "\n",
    "newcleanedgoogle = googlecleaned.replace({'level':{'L4a':'L4','L5a': 'L5', 'L6a': 'L6', 'L7a': 'L7', 'L8a': 'L8'}})\n",
    "newgoogleclean = newcleanedgoogle.loc[(newcleanedgoogle['level'] == 'L3') | (newcleanedgoogle['level']=='L4') | (newcleanedgoogle['level']=='L5') | (newcleanedgoogle['level']=='L6') | (newcleanedgoogle['level']=='L7') | (newcleanedgoogle['level']=='L8')]\n",
    "print(newgoogleclean['level'].value_counts())"
   ]
  },
  {
   "cell_type": "code",
   "execution_count": 7,
   "metadata": {},
   "outputs": [
    {
     "name": "stderr",
     "output_type": "stream",
     "text": [
      "C:\\Users\\meric\\AppData\\Local\\Temp/ipykernel_32244/3755093973.py:7: SettingWithCopyWarning: \n",
      "A value is trying to be set on a copy of a slice from a DataFrame.\n",
      "Try using .loc[row_indexer,col_indexer] = value instead\n",
      "\n",
      "See the caveats in the documentation: https://pandas.pydata.org/pandas-docs/stable/user_guide/indexing.html#returning-a-view-versus-a-copy\n",
      "  cleanedfacebookcy['level']=np.where(cleanedfacebookcy['level']=='E3','L4',cleanedfacebookcy['level'])\n",
      "C:\\Users\\meric\\AppData\\Local\\Temp/ipykernel_32244/3755093973.py:9: SettingWithCopyWarning: \n",
      "A value is trying to be set on a copy of a slice from a DataFrame.\n",
      "Try using .loc[row_indexer,col_indexer] = value instead\n",
      "\n",
      "See the caveats in the documentation: https://pandas.pydata.org/pandas-docs/stable/user_guide/indexing.html#returning-a-view-versus-a-copy\n",
      "  cleanedfacebookcy['level']=np.where((cleanedfacebookcy['totalyearlycompensation']<=cleanedL5upperboundcomp)&(cleanedfacebookcy['level']=='E4'),'L4',cleanedfacebookcy['level'])\n",
      "C:\\Users\\meric\\AppData\\Local\\Temp/ipykernel_32244/3755093973.py:10: SettingWithCopyWarning: \n",
      "A value is trying to be set on a copy of a slice from a DataFrame.\n",
      "Try using .loc[row_indexer,col_indexer] = value instead\n",
      "\n",
      "See the caveats in the documentation: https://pandas.pydata.org/pandas-docs/stable/user_guide/indexing.html#returning-a-view-versus-a-copy\n",
      "  cleanedfacebookcy['level']=np.where((cleanedfacebookcy['totalyearlycompensation']>cleanedL5upperboundcomp)&(cleanedfacebookcy['level']=='E4'),'L5',cleanedfacebookcy['level'])\n",
      "C:\\Users\\meric\\AppData\\Local\\Temp/ipykernel_32244/3755093973.py:12: SettingWithCopyWarning: \n",
      "A value is trying to be set on a copy of a slice from a DataFrame.\n",
      "Try using .loc[row_indexer,col_indexer] = value instead\n",
      "\n",
      "See the caveats in the documentation: https://pandas.pydata.org/pandas-docs/stable/user_guide/indexing.html#returning-a-view-versus-a-copy\n",
      "  cleanedfacebookcy['level']=np.where((cleanedfacebookcy['totalyearlycompensation']<=cleanedL6upperboundcomp)&(cleanedfacebookcy['level']=='E5'),'L5',cleanedfacebookcy['level'])\n",
      "C:\\Users\\meric\\AppData\\Local\\Temp/ipykernel_32244/3755093973.py:13: SettingWithCopyWarning: \n",
      "A value is trying to be set on a copy of a slice from a DataFrame.\n",
      "Try using .loc[row_indexer,col_indexer] = value instead\n",
      "\n",
      "See the caveats in the documentation: https://pandas.pydata.org/pandas-docs/stable/user_guide/indexing.html#returning-a-view-versus-a-copy\n",
      "  cleanedfacebookcy['level']=np.where((cleanedfacebookcy['totalyearlycompensation']>cleanedL6upperboundcomp)&(cleanedfacebookcy['level']=='E5'),'L6',cleanedfacebookcy['level'])\n",
      "C:\\Users\\meric\\AppData\\Local\\Temp/ipykernel_32244/3755093973.py:15: SettingWithCopyWarning: \n",
      "A value is trying to be set on a copy of a slice from a DataFrame.\n",
      "Try using .loc[row_indexer,col_indexer] = value instead\n",
      "\n",
      "See the caveats in the documentation: https://pandas.pydata.org/pandas-docs/stable/user_guide/indexing.html#returning-a-view-versus-a-copy\n",
      "  cleanedfacebookcy['level']=np.where((cleanedfacebookcy['totalyearlycompensation']<=cleanedL7upperboundcomp)&(cleanedfacebookcy['level']=='E6'),'L6',cleanedfacebookcy['level'])\n",
      "C:\\Users\\meric\\AppData\\Local\\Temp/ipykernel_32244/3755093973.py:16: SettingWithCopyWarning: \n",
      "A value is trying to be set on a copy of a slice from a DataFrame.\n",
      "Try using .loc[row_indexer,col_indexer] = value instead\n",
      "\n",
      "See the caveats in the documentation: https://pandas.pydata.org/pandas-docs/stable/user_guide/indexing.html#returning-a-view-versus-a-copy\n",
      "  cleanedfacebookcy['level']=np.where((cleanedfacebookcy['totalyearlycompensation']>cleanedL7upperboundcomp)&(cleanedfacebookcy['level']=='E6'),'L7',cleanedfacebookcy['level'])\n",
      "C:\\Users\\meric\\AppData\\Local\\Temp/ipykernel_32244/3755093973.py:18: SettingWithCopyWarning: \n",
      "A value is trying to be set on a copy of a slice from a DataFrame.\n",
      "Try using .loc[row_indexer,col_indexer] = value instead\n",
      "\n",
      "See the caveats in the documentation: https://pandas.pydata.org/pandas-docs/stable/user_guide/indexing.html#returning-a-view-versus-a-copy\n",
      "  cleanedfacebookcy['level']=np.where((cleanedfacebookcy['totalyearlycompensation']<=cleanedL8upperboundcomp)&(cleanedfacebookcy['level']=='E7'),'L7',cleanedfacebookcy['level'])\n",
      "C:\\Users\\meric\\AppData\\Local\\Temp/ipykernel_32244/3755093973.py:19: SettingWithCopyWarning: \n",
      "A value is trying to be set on a copy of a slice from a DataFrame.\n",
      "Try using .loc[row_indexer,col_indexer] = value instead\n",
      "\n",
      "See the caveats in the documentation: https://pandas.pydata.org/pandas-docs/stable/user_guide/indexing.html#returning-a-view-versus-a-copy\n",
      "  cleanedfacebookcy['level']=np.where((cleanedfacebookcy['totalyearlycompensation']>cleanedL8upperboundcomp)&(cleanedfacebookcy['level']=='E7'),'L8',cleanedfacebookcy['level'])\n",
      "C:\\Users\\meric\\AppData\\Local\\Temp/ipykernel_32244/3755093973.py:21: SettingWithCopyWarning: \n",
      "A value is trying to be set on a copy of a slice from a DataFrame.\n",
      "Try using .loc[row_indexer,col_indexer] = value instead\n",
      "\n",
      "See the caveats in the documentation: https://pandas.pydata.org/pandas-docs/stable/user_guide/indexing.html#returning-a-view-versus-a-copy\n",
      "  cleanedfacebookcy['level']=np.where(cleanedfacebookcy['level']=='E8','L8',cleanedfacebookcy['level'])\n"
     ]
    },
    {
     "data": {
      "text/plain": [
       "L4    715\n",
       "L5    607\n",
       "L6    225\n",
       "L7     34\n",
       "L8      4\n",
       "Name: level, dtype: int64"
      ]
     },
     "execution_count": 7,
     "metadata": {},
     "output_type": "execute_result"
    }
   ],
   "source": [
    "facebookcy = data[(data['company']=='Facebook')&(data['title']=='Software Engineer')]\n",
    "\n",
    "\n",
    "facebookcy = facebookcy.replace({'level':{'3':'E3','5':'E5','e5':'E5','4':'E4','6':'E6'}})\n",
    "cleanedfacebookcy= facebookcy.loc[(facebookcy['level']=='E3')|(facebookcy['level']=='E4')| (facebookcy['level']=='E5') | (facebookcy['level']=='E6') | (facebookcy['level']=='E7') | (facebookcy['level']=='E8')]\n",
    "\n",
    "cleanedfacebookcy['level']=np.where(cleanedfacebookcy['level']=='E3','L4',cleanedfacebookcy['level'])\n",
    "\n",
    "cleanedfacebookcy['level']=np.where((cleanedfacebookcy['totalyearlycompensation']<=cleanedL5upperboundcomp)&(cleanedfacebookcy['level']=='E4'),'L4',cleanedfacebookcy['level'])\n",
    "cleanedfacebookcy['level']=np.where((cleanedfacebookcy['totalyearlycompensation']>cleanedL5upperboundcomp)&(cleanedfacebookcy['level']=='E4'),'L5',cleanedfacebookcy['level'])\n",
    "\n",
    "cleanedfacebookcy['level']=np.where((cleanedfacebookcy['totalyearlycompensation']<=cleanedL6upperboundcomp)&(cleanedfacebookcy['level']=='E5'),'L5',cleanedfacebookcy['level'])\n",
    "cleanedfacebookcy['level']=np.where((cleanedfacebookcy['totalyearlycompensation']>cleanedL6upperboundcomp)&(cleanedfacebookcy['level']=='E5'),'L6',cleanedfacebookcy['level'])\n",
    "\n",
    "cleanedfacebookcy['level']=np.where((cleanedfacebookcy['totalyearlycompensation']<=cleanedL7upperboundcomp)&(cleanedfacebookcy['level']=='E6'),'L6',cleanedfacebookcy['level'])\n",
    "cleanedfacebookcy['level']=np.where((cleanedfacebookcy['totalyearlycompensation']>cleanedL7upperboundcomp)&(cleanedfacebookcy['level']=='E6'),'L7',cleanedfacebookcy['level'])\n",
    "\n",
    "cleanedfacebookcy['level']=np.where((cleanedfacebookcy['totalyearlycompensation']<=cleanedL8upperboundcomp)&(cleanedfacebookcy['level']=='E7'),'L7',cleanedfacebookcy['level'])\n",
    "cleanedfacebookcy['level']=np.where((cleanedfacebookcy['totalyearlycompensation']>cleanedL8upperboundcomp)&(cleanedfacebookcy['level']=='E7'),'L8',cleanedfacebookcy['level'])\n",
    "\n",
    "cleanedfacebookcy['level']=np.where(cleanedfacebookcy['level']=='E8','L8',cleanedfacebookcy['level'])\n",
    "\n",
    "cleanedfacebookcy['level'].value_counts()"
   ]
  },
  {
   "cell_type": "code",
   "execution_count": 8,
   "metadata": {},
   "outputs": [
    {
     "data": {
      "text/plain": [
       "L4    1689\n",
       "L5    1075\n",
       "L6     487\n",
       "L7      35\n",
       "L8       4\n",
       "Name: level, dtype: int64"
      ]
     },
     "execution_count": 8,
     "metadata": {},
     "output_type": "execute_result"
    }
   ],
   "source": [
    "micromerick=data[(data['company'] == 'Microsoft')&(data['title']=='Software Engineer')]\n",
    "micromerick=micromerick.replace({'level':{'SDE':'59','L59':'59','SDE 59':'59','sde1':'59','SDE I':'59'}})\n",
    "micromerick=micromerick.replace({'level':{'l60':'60','L60':'60'}})\n",
    "micromerick=micromerick.replace({'level':{'l61':'61','L61':'61','SDE II':'61','SDE II (61)':'61','SDE2':'61','sde2':'61','SDE 2':'61','SDE 2 / 61':'61','Sde 2':'61'}})\n",
    "micromerick=micromerick.replace({'level':{'l62':'62','L62':'62','SDE II (L62)':'62','SDE II L62':'62','SDE II (62)':'62'}})\n",
    "micromerick=micromerick.replace({'level':{'l63':'63','L63':'63','Senior SDE':'63'}})\n",
    "micromerick=micromerick.replace({'level':{'l64':'64','L64':'64'}})\n",
    "micromerick=micromerick.replace({'level':{'l65':'65','L65':'65','Principal SDE':'65'}})\n",
    "micromerick=micromerick.replace({'level':{'l66':'66','L66':'66'}})\n",
    "micromerick=micromerick.replace({'level':{'l67':'67','L67':'67'}})\n",
    "micromerick=micromerick.replace({'level':{'l68':'68','L68':'68'}})\n",
    "micromerick=micromerick.replace({'level':{'l69':'69','L69':'69'}})\n",
    "micromerick=micromerick.replace({'level':{'l70':'70','L70':'70','Distinguished Engineer':'70'}})\n",
    "micromerick=micromerick.replace({'level':{'l80':'80','L80':'80'}})\n",
    "micromerick=micromerick.loc[(micromerick['level'] == '59') | (micromerick['level']=='60') | (micromerick['level']=='61') | (micromerick['level']=='62') | (micromerick['level']=='63') | (micromerick['level']=='64') | (micromerick['level']=='65') | (micromerick['level']=='66') | (micromerick['level']=='67') | (micromerick['level']=='68') | (micromerick['level']=='69') | (micromerick['level']=='70') | (micromerick['level']=='80')]\n",
    "\n",
    "micromerick['level']=np.where(micromerick['level']=='59','L4',micromerick['level'])\n",
    "\n",
    "micromerick['level']=np.where(micromerick['level']=='60','L4',micromerick['level'])\n",
    "\n",
    "micromerick['level']=np.where((micromerick['level']=='61')&(micromerick['totalyearlycompensation']<=cleanedL4upperboundcomp),'L4',micromerick['level'])\n",
    "micromerick['level']=np.where((micromerick['level']=='61')&(micromerick['totalyearlycompensation']>cleanedL4upperboundcomp),'L5',micromerick['level'])\n",
    "\n",
    "micromerick['level']=np.where(micromerick['level']=='62','L5',micromerick['level'])\n",
    "\n",
    "micromerick['level']=np.where((micromerick['level']=='63')&(micromerick['totalyearlycompensation']<=cleanedL5upperboundcomp),'L5',micromerick['level'])\n",
    "micromerick['level']=np.where((micromerick['level']=='63')&(micromerick['totalyearlycompensation']>cleanedL5upperboundcomp),'L6',micromerick['level'])\n",
    "\n",
    "micromerick['level']=np.where(micromerick['level']=='64','L6',micromerick['level'])\n",
    "micromerick['level']=np.where(micromerick['level']=='65','L6',micromerick['level'])\n",
    "\n",
    "micromerick['level']=np.where((micromerick['level']=='66')&(micromerick['totalyearlycompensation']<=cleanedL6upperboundcomp),'L6',micromerick['level'])\n",
    "micromerick['level']=np.where((micromerick['level']=='66')&(micromerick['totalyearlycompensation']>cleanedL6upperboundcomp),'L7',micromerick['level'])\n",
    "\n",
    "micromerick['level']=np.where(micromerick['level']=='67','L7',micromerick['level'])\n",
    "\n",
    "micromerick['level']=np.where((micromerick['level']=='68')&(micromerick['totalyearlycompensation']<=cleanedL7upperboundcomp),'L7',micromerick['level'])\n",
    "micromerick['level']=np.where((micromerick['level']=='68')&(micromerick['totalyearlycompensation']>cleanedL7upperboundcomp),'L8',micromerick['level'])\n",
    "\n",
    "micromerick['level']=np.where(micromerick['level']=='69','L8',micromerick['level'])\n",
    "micromerick['level']=np.where(micromerick['level']=='70','L8',micromerick['level'])\n",
    "\n",
    "micromerick['level'].value_counts()"
   ]
  },
  {
   "cell_type": "code",
   "execution_count": 9,
   "metadata": {},
   "outputs": [],
   "source": [
    "pd.set_option('display.max_columns', None)\n",
    "pd.set_option('display.max_rows', None)\n",
    "data = pd.read_csv('Levels_Fyi_Salary_Data.csv')\n",
    "amazon = data[data['company'] == 'Amazon']\n",
    "amazon = amazon.replace({'level':{'SDE I':'L4','SDE II':'L5','SDE III':'L6','L6 SDM':'L6','6':'L6','L5 SDM':'L5','Principal SDE':'L7','Senior SDE':'L6','5':'L5','7':'L7','4':'L4','1':'L1','l5':'L5','l4':'L4','l6':'L6','l7':'L7','l1':'L1','l2':'L2','l3':'L3','2':'L2','3':'L3'}})\n",
    "cleaned = amazon.loc[(amazon['level']=='L4') | (amazon['level']=='L5') | (amazon['level']=='L6') | (amazon['level']=='L7') | (amazon['level']=='L8')]\n",
    "cleaned = cleaned.sort_values(by=['level','totalyearlycompensation'], ascending=[False,False])"
   ]
  },
  {
   "cell_type": "code",
   "execution_count": 10,
   "metadata": {},
   "outputs": [
    {
     "name": "stdout",
     "output_type": "stream",
     "text": [
      "<class 'pandas.core.frame.DataFrame'>\n",
      "Int64Index: 16854 entries, 61986 to 62599\n",
      "Data columns (total 29 columns):\n",
      " #   Column                   Non-Null Count  Dtype  \n",
      "---  ------                   --------------  -----  \n",
      " 0   timestamp                16854 non-null  object \n",
      " 1   company                  16854 non-null  object \n",
      " 2   level                    16854 non-null  object \n",
      " 3   title                    16854 non-null  object \n",
      " 4   totalyearlycompensation  16854 non-null  int64  \n",
      " 5   location                 16854 non-null  object \n",
      " 6   yearsofexperience        16854 non-null  float64\n",
      " 7   yearsatcompany           16854 non-null  float64\n",
      " 8   tag                      16479 non-null  object \n",
      " 9   basesalary               16854 non-null  float64\n",
      " 10  stockgrantvalue          16854 non-null  float64\n",
      " 11  bonus                    16854 non-null  float64\n",
      " 12  gender                   11820 non-null  object \n",
      " 13  otherdetails             9781 non-null   object \n",
      " 14  cityid                   16854 non-null  int64  \n",
      " 15  dmaid                    16854 non-null  float64\n",
      " 16  rowNumber                16854 non-null  int64  \n",
      " 17  Masters_Degree           16854 non-null  int64  \n",
      " 18  Bachelors_Degree         16854 non-null  int64  \n",
      " 19  Doctorate_Degree         16854 non-null  int64  \n",
      " 20  Highschool               16854 non-null  int64  \n",
      " 21  Some_College             16854 non-null  int64  \n",
      " 22  Race_Asian               16854 non-null  int64  \n",
      " 23  Race_White               16854 non-null  int64  \n",
      " 24  Race_Two_Or_More         16854 non-null  int64  \n",
      " 25  Race_Black               16854 non-null  int64  \n",
      " 26  Race_Hispanic            16854 non-null  int64  \n",
      " 27  Race                     5291 non-null   object \n",
      " 28  Education                7434 non-null   object \n",
      "dtypes: float64(6), int64(13), object(10)\n",
      "memory usage: 3.9+ MB\n",
      "<class 'pandas.core.frame.DataFrame'>\n",
      "Int64Index: 7434 entries, 36276 to 61776\n",
      "Data columns (total 29 columns):\n",
      " #   Column                   Non-Null Count  Dtype  \n",
      "---  ------                   --------------  -----  \n",
      " 0   timestamp                7434 non-null   object \n",
      " 1   company                  7434 non-null   object \n",
      " 2   level                    7434 non-null   object \n",
      " 3   title                    7434 non-null   object \n",
      " 4   totalyearlycompensation  7434 non-null   int64  \n",
      " 5   location                 7434 non-null   object \n",
      " 6   yearsofexperience        7434 non-null   float64\n",
      " 7   yearsatcompany           7434 non-null   float64\n",
      " 8   tag                      7429 non-null   object \n",
      " 9   basesalary               7434 non-null   float64\n",
      " 10  stockgrantvalue          7434 non-null   float64\n",
      " 11  bonus                    7434 non-null   float64\n",
      " 12  gender                   6822 non-null   object \n",
      " 13  otherdetails             7434 non-null   object \n",
      " 14  cityid                   7434 non-null   int64  \n",
      " 15  dmaid                    7434 non-null   float64\n",
      " 16  rowNumber                7434 non-null   int64  \n",
      " 17  Masters_Degree           7434 non-null   int64  \n",
      " 18  Bachelors_Degree         7434 non-null   int64  \n",
      " 19  Doctorate_Degree         7434 non-null   int64  \n",
      " 20  Highschool               7434 non-null   int64  \n",
      " 21  Some_College             7434 non-null   int64  \n",
      " 22  Race_Asian               7434 non-null   int64  \n",
      " 23  Race_White               7434 non-null   int64  \n",
      " 24  Race_Two_Or_More         7434 non-null   int64  \n",
      " 25  Race_Black               7434 non-null   int64  \n",
      " 26  Race_Hispanic            7434 non-null   int64  \n",
      " 27  Race                     5138 non-null   object \n",
      " 28  Education                7434 non-null   object \n",
      "dtypes: float64(6), int64(13), object(10)\n",
      "memory usage: 1.7+ MB\n"
     ]
    },
    {
     "data": {
      "text/plain": [
       "L4    2961\n",
       "L5    2747\n",
       "L6    1429\n",
       "L7     275\n",
       "L8      22\n",
       "Name: level, dtype: int64"
      ]
     },
     "execution_count": 10,
     "metadata": {},
     "output_type": "execute_result"
    }
   ],
   "source": [
    "faamg=pd.concat([cleaned,cleanedfacebookcy,newgoogleclean,micromerick,applemerick])\n",
    "faamg.info()\n",
    "faamgeduonly=faamg[(faamg['Education'].notna())]\n",
    "faamgeduonly.info()\n",
    "faamgeduonly['level'].value_counts()"
   ]
  },
  {
   "cell_type": "code",
   "execution_count": 28,
   "metadata": {},
   "outputs": [
    {
     "name": "stdout",
     "output_type": "stream",
     "text": [
      "Master's Degree      3969\n",
      "Bachelor's Degree    2807\n",
      "PhD                   518\n",
      "Highschool             74\n",
      "Some College           66\n",
      "Name: Education, dtype: int64\n"
     ]
    },
    {
     "data": {
      "text/plain": [
       "<AxesSubplot:xlabel='totalyearlycompensation', ylabel='Education'>"
      ]
     },
     "execution_count": 28,
     "metadata": {},
     "output_type": "execute_result"
    },
    {
     "data": {
      "image/png": "[encoded data removed]",
      "text/plain": [
       "<Figure size 1440x720 with 1 Axes>"
      ]
     },
     "metadata": {
      "needs_background": "light"
     },
     "output_type": "display_data"
    }
   ],
   "source": [
    "print(faamgeduonly['Education'].value_counts())\n",
    "f = plt.figure(figsize=(20,10))\n",
    "sb.boxplot(y='Education',x='totalyearlycompensation',data=faamgeduonly)"
   ]
  },
  {
   "cell_type": "code",
   "execution_count": null,
   "metadata": {},
   "outputs": [],
   "source": []
  },
  {
   "cell_type": "code",
   "execution_count": 26,
   "metadata": {},
   "outputs": [
    {
     "name": "stdout",
     "output_type": "stream",
     "text": [
      "Asian          2852\n",
      "White          1644\n",
      "Hispanic        301\n",
      "Two Or More     188\n",
      "Black           153\n",
      "Name: Race, dtype: int64\n"
     ]
    },
    {
     "data": {
      "text/plain": [
       "<AxesSubplot:xlabel='totalyearlycompensation', ylabel='Race'>"
      ]
     },
     "execution_count": 26,
     "metadata": {},
     "output_type": "execute_result"
    },
    {
     "data": {
      "image/png": "[encoded data removed]",
      "text/plain": [
       "<Figure size 1440x720 with 1 Axes>"
      ]
     },
     "metadata": {
      "needs_background": "light"
     },
     "output_type": "display_data"
    }
   ],
   "source": [
    "faamgEduRaceMerick=faamgeduonly[faamgeduonly['Race'].notna()]\n",
    "print(faamgEduRaceMerick['Race'].value_counts())\n",
    "f=plt.figure(figsize=(20,10))\n",
    "sb.boxplot(data=faamgEduRaceMerick,x='totalyearlycompensation',y='Race')"
   ]
  }
 ],
 "metadata": {
  "interpreter": {
   "hash": "5756de3a287bccf437dc7f8da884151bb4d0d2bd27c4744ed44594e70630a117"
  },
  "kernelspec": {
   "display_name": "Python 3.9.7 ('base')",
   "language": "python",
   "name": "python3"
  },
  "language_info": {
   "codemirror_mode": {
    "name": "ipython",
    "version": 3
   },
   "file_extension": ".py",
   "mimetype": "text/x-python",
   "name": "python",
   "nbconvert_exporter": "python",
   "pygments_lexer": "ipython3",
   "version": "3.9.7"
  },
  "orig_nbformat": 4
 },
 "nbformat": 4,
 "nbformat_minor": 2
}
