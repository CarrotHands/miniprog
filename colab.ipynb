{
 "cells": [
  {
   "cell_type": "code",
   "execution_count": 2,
   "metadata": {},
   "outputs": [],
   "source": [
    "import numpy as np\n",
    "import pandas as pd\n",
    "import seaborn as sb\n",
    "import matplotlib.pyplot as plt\n",
    "from sklearn.model_selection import train_test_split\n",
    "from sklearn.tree import DecisionTreeClassifier\n",
    "from sklearn.tree import plot_tree\n",
    "from sklearn.metrics import confusion_matrix\n"
   ]
  },
  {
   "cell_type": "markdown",
   "metadata": {},
   "source": [
    "# If you have these qualifications, is it more worth to further education or more experience for each level?"
   ]
  },
  {
   "cell_type": "code",
   "execution_count": 43,
   "metadata": {},
   "outputs": [],
   "source": [
    "pd.set_option('display.max_columns', None)\n",
    "pd.set_option('display.max_rows', None)\n",
    "data = pd.read_csv('Levels_Fyi_Salary_Data.csv')\n",
    "amazon = data[data['company'] == 'Amazon']\n",
    "amazon = amazon.replace({'level':{'SDE I':'L4','SDE II':'L5','SDE III':'L6','L6 SDM':'L6','6':'L6','L5 SDM':'L5','Principal SDE':'L7','Senior SDE':'L6','5':'L5','7':'L7','4':'L4','1':'L1','l5':'L5','l4':'L4','l6':'L6','l7':'L7','l1':'L1','l2':'L2','l3':'L3','2':'L2','3':'L3'}})\n",
    "cleaned = amazon.loc[(amazon['level'] == 'L1') | (amazon['level']=='L2') | (amazon['level']=='L3') | (amazon['level']=='L4') | (amazon['level']=='L5') | (amazon['level']=='L6') | (amazon['level']=='L7') | (amazon['level']=='L8')]\n",
    "cleaned = cleaned.sort_values(by=['level','totalyearlycompensation'], ascending=[False,False])"
   ]
  },
  {
   "cell_type": "markdown",
   "metadata": {},
   "source": [
    "# from here onwards only add items"
   ]
  },
  {
   "cell_type": "code",
   "execution_count": 44,
   "metadata": {},
   "outputs": [
    {
     "name": "stdout",
     "output_type": "stream",
     "text": [
      "PermaHeadDamage:\n",
      " 0    60839\n",
      "1     1803\n",
      "Name: Doctorate_Degree, dtype: int64\n",
      "Masters:\n",
      " 0    47251\n",
      "1    15391\n",
      "Name: Masters_Degree, dtype: int64\n",
      "Bachelors:\n",
      " 0    50037\n",
      "1    12605\n",
      "Name: Bachelors_Degree, dtype: int64\n",
      "Highschool:\n",
      " 0    62322\n",
      "1      320\n",
      "Name: Highschool, dtype: int64\n",
      "education:\n",
      " Master's Degree      15391\n",
      "Bachelor's Degree    12601\n",
      "PhD                   1703\n",
      "Some College           355\n",
      "Highschool             320\n",
      "Name: Education, dtype: int64\n"
     ]
    },
    {
     "data": {
      "text/plain": [
       "Amazon       3665\n",
       "Microsoft    2310\n",
       "Google       1917\n",
       "Facebook     1431\n",
       "Apple         915\n",
       "Name: company, dtype: int64"
      ]
     },
     "execution_count": 44,
     "metadata": {},
     "output_type": "execute_result"
    }
   ],
   "source": [
    "print(\"PermaHeadDamage:\\n\",data['Doctorate_Degree'].value_counts())\n",
    "print(\"Masters:\\n\",data['Masters_Degree'].value_counts())\n",
    "print(\"Bachelors:\\n\",data['Bachelors_Degree'].value_counts())\n",
    "print(\"Highschool:\\n\",data['Highschool'].value_counts())\n",
    "print(\"education:\\n\",data['Education'].value_counts())\n",
    "fillededu = data[data['Education'].notnull()]\n",
    "#fillededu.info()\n",
    "#fillededu['company'].value_counts()\n",
    "top5 = fillededu[fillededu['company'].isin(['Facebook','Google','Amazon','Apple','Microsoft'])]\n",
    "#top5.info()\n",
    "top5['company'].value_counts()"
   ]
  },
  {
   "cell_type": "code",
   "execution_count": 40,
   "metadata": {},
   "outputs": [
    {
     "name": "stdout",
     "output_type": "stream",
     "text": [
      "count       251.000000\n",
      "mean     187081.673307\n",
      "std       29755.239922\n",
      "min       53000.000000\n",
      "25%      178000.000000\n",
      "50%      192000.000000\n",
      "75%      208000.000000\n",
      "max      222000.000000\n",
      "Name: totalyearlycompensation, dtype: float64\n",
      "count       150.000000\n",
      "mean     258773.333333\n",
      "std       29253.611414\n",
      "min      223000.000000\n",
      "25%      236250.000000\n",
      "50%      251000.000000\n",
      "75%      273750.000000\n",
      "max      355000.000000\n",
      "Name: totalyearlycompensation, dtype: float64\n"
     ]
    },
    {
     "data": {
      "image/png": "[encoded data removed]",
      "text/plain": [
       "<Figure size 432x288 with 1 Axes>"
      ]
     },
     "metadata": {
      "needs_background": "light"
     },
     "output_type": "display_data"
    }
   ],
   "source": [
    "applemerick = data[(data['company'] == 'Apple')&(data['title']=='Software Engineer')]\n",
    "applemerick.head()\n",
    "applemerick[\"title\"].value_counts()\n",
    "applemerick[\"level\"].value_counts()\n",
    "#print(applemerick[applemerick['level']=='ICT3'].totalyearlycompensation.describe())\n",
    "#print(applemerick[applemerick['level']=='ICT4'].totalyearlycompensation.describe())\n",
    "#print(amazon[amazon['level']=='L4'].totalyearlycompensation.describe())\n",
    "#sb.boxplot(data=amazon[amazon['level']=='L4'],x='totalyearlycompensation',y='level')\n",
    "amazonIQRcomp = amazon[amazon['level']=='L4'].totalyearlycompensation.quantile(0.75) - amazon[amazon['level']=='L4'].totalyearlycompensation.quantile(0.25)\n",
    "#print(amazonIQRcomp)\n",
    "amazonupperboundcomp = amazon[amazon['level']=='L4'].totalyearlycompensation.quantile(0.75) + (1.5*amazonIQRcomp)\n",
    "#print(amazonupperboundcomp)\n",
    "appleict3tol4 = applemerick[(applemerick['level']=='ICT3')&(applemerick['totalyearlycompensation']<=amazonupperboundcomp)]\n",
    "print(appleict3tol4.totalyearlycompensation.describe())\n",
    "appleict3tol5 = applemerick[(applemerick['level']=='ICT3')&(applemerick['totalyearlycompensation']>amazonupperboundcomp)]\n",
    "print(appleict3tol5.totalyearlycompensation.describe())"
   ]
  }
 ],
 "metadata": {
  "interpreter": {
   "hash": "5756de3a287bccf437dc7f8da884151bb4d0d2bd27c4744ed44594e70630a117"
  },
  "kernelspec": {
   "display_name": "Python 3.9.7 ('base')",
   "language": "python",
   "name": "python3"
  },
  "language_info": {
   "codemirror_mode": {
    "name": "ipython",
    "version": 3
   },
   "file_extension": ".py",
   "mimetype": "text/x-python",
   "name": "python",
   "nbconvert_exporter": "python",
   "pygments_lexer": "ipython3",
   "version": "3.9.7"
  },
  "orig_nbformat": 4
 },
 "nbformat": 4,
 "nbformat_minor": 2
}
